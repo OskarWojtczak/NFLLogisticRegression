{
 "cells": [
  {
   "attachments": {},
   "cell_type": "markdown",
   "id": "b2fab78e",
   "metadata": {},
   "source": [
    "# NFL Stats Analysis using Logisitc Regression with Python\n"
   ]
  },
  {
   "attachments": {},
   "cell_type": "markdown",
   "id": "27e151b4",
   "metadata": {},
   "source": [
    "### 1. Introduction\n",
    "\n",
    "As a programmer and NFL fan I thought it best to use my newly acquired skills to do some good in the world... So I decided to get rich betting on sports events using this nifty bit of code! Easy, right? I mean it's basically cheating at this point. Well, not quite. I'll get into why what we have here won't make either of us millionaires as we move through the cells but for now it's important to understand what a logistic regression is and why it's useful for this scenario.\n",
    "\n",
    "A logistic regression is a tool used to predict the outcome of an event when provided with other information about said event. A simple version of this which I'm sure most of you will be familiar with is linear regression. Linear regressions are also used to make predictions about outcomes but they are only based on one other variable. For example, if you were to plot a graph of people's height against their weight, you would intuitively expect that the taller a person is the more likely they are to be heavier. There are always outliers but generally speaking once a regression with enough data points was created, one could use it to predict the weights of most people based solely on their height. This regression provides us with a continuous output and has predicted values for each height or weight value, this is good if you're dealing with a continuous set of variables like height or weight but not as useful when trying to predict binary results, like wins and losses (we will address 'ties' later). This model works great at finding 1:1 relationships between variables, however in our case there are a number of different variables which could have an impact on the outcome of a game and must be considered.\n",
    "\n",
    "And so we arrive at the doorstep of logistic regression. This model allows us to evaluate the importance of a number of variables and use them to predict discrete outcomes. It does this by creating a 'line of best fit' similarly seen in the previous example of the linear regression using a set of training data, however this line is not straight. The best fit line used in a logistic regression is a sigmoid, an s-shape. The shape of this line is what allows one to make predictions about discrete events. This is because when a set of inputed data is matched to the best-fit line there is a very high likelihood it lands on one of the extended flat arms of the 's' which lie either on 1 or 0, allowing one to make predictions about whether a set of inputed parameters will result in either a win or a loss for the given team. This model is also particularly useful as it uses the training data provided to it to determine which stats in particular seem to have a greater impact on the outcome and therefore should be considered more when making predictions. We will see more about how this works as we go through and I won't go into the deeper mathematics of the model since I don't think anyone reading is particularly interested in a maths lesson and honestly, python does a lot of the heavy lifting for you so if you were to decide to do this yourself the deeper understanding wouldn't be required anyway.   "
   ]
  },
  {
   "cell_type": "markdown",
   "id": "4c5a1426",
   "metadata": {},
   "source": [
    "## Setup"
   ]
  },
  {
   "cell_type": "code",
   "execution_count": 1,
   "id": "8cc870b1",
   "metadata": {},
   "outputs": [],
   "source": [
    "import numpy as np\n",
    "import pandas as pd\n",
    "from sklearn.linear_model import LogisticRegression\n",
    "from sklearn.preprocessing import StandardScaler\n",
    "from sklearn.model_selection import train_test_split\n",
    "from sklearn.metrics import accuracy_score\n",
    "import matplotlib.pyplot as plt\n",
    "import seaborn as sns\n",
    "%matplotlib inline"
   ]
  },
  {
   "attachments": {},
   "cell_type": "markdown",
   "id": "388f14f5",
   "metadata": {},
   "source": [
    "### 1. Load the dataset\n",
    "\n",
    "All necessary libraries are loaded, now I need to load our dataset for the 2021 NFl Season. Using pandas, I load the dataset `season_2021.csv` and save it as `nfl`. "
   ]
  },
  {
   "attachments": {},
   "cell_type": "markdown",
   "id": "8667b893",
   "metadata": {},
   "source": [
    "<details>\n",
    "    <summary style=\"display:list-item;\"><b>Variables in the dataset.</b></summary>\n",
    "\n",
    "* `symbol`: team name abbreviation\n",
    "* `team_name`: team name\n",
    "* `result`: whether this team won (`W`), lost (`L`), or tied (`T`) for this game\n",
    "* `1stD_offense`: First down conversions by the team's offense\n",
    "* `TotYd_offense`: Total yards gained by the team's offense\n",
    "* `PassY_offense`: Total passing yards gained by the team's offense\n",
    "* `RushY_offense`: Total rushing yards gained by the team's offense\n",
    "* `TO_offense`: Turnovers committed by the team's offense\n",
    "* `1stD_defense`: First down conversions allowed by the team's defense\n",
    "* `TotYd_defense`: Total yards allowed by the team's defense\n",
    "* `PassY_defense`: Total passing yards allowed by the team's defense\n",
    "* `RushY_defense`: Total rushing yards allowed by the team's defense\n",
    "* `TO_defense`: Turnovers in favor of the defensive team\n",
    "\n",
    "</details>"
   ]
  },
  {
   "cell_type": "code",
   "execution_count": 2,
   "id": "384c95dc",
   "metadata": {},
   "outputs": [
    {
     "data": {
      "text/html": [
       "<div>\n",
       "<style scoped>\n",
       "    .dataframe tbody tr th:only-of-type {\n",
       "        vertical-align: middle;\n",
       "    }\n",
       "\n",
       "    .dataframe tbody tr th {\n",
       "        vertical-align: top;\n",
       "    }\n",
       "\n",
       "    .dataframe thead th {\n",
       "        text-align: right;\n",
       "    }\n",
       "</style>\n",
       "<table border=\"1\" class=\"dataframe\">\n",
       "  <thead>\n",
       "    <tr style=\"text-align: right;\">\n",
       "      <th></th>\n",
       "      <th>team_name</th>\n",
       "      <th>week</th>\n",
       "      <th>day</th>\n",
       "      <th>date</th>\n",
       "      <th>result</th>\n",
       "      <th>opponent</th>\n",
       "      <th>tm_score</th>\n",
       "      <th>opp_score</th>\n",
       "      <th>1stD_offense</th>\n",
       "      <th>TotYd_offense</th>\n",
       "      <th>PassY_offense</th>\n",
       "      <th>RushY_offense</th>\n",
       "      <th>TO_offense</th>\n",
       "      <th>1stD_defense</th>\n",
       "      <th>TotYd_defense</th>\n",
       "      <th>PassY_defense</th>\n",
       "      <th>RushY_defense</th>\n",
       "      <th>TO_defense</th>\n",
       "    </tr>\n",
       "  </thead>\n",
       "  <tbody>\n",
       "    <tr>\n",
       "      <th>0</th>\n",
       "      <td>Arizona Cardinals</td>\n",
       "      <td>1</td>\n",
       "      <td>Sun</td>\n",
       "      <td>September 12</td>\n",
       "      <td>W</td>\n",
       "      <td>Tennessee Titans</td>\n",
       "      <td>38</td>\n",
       "      <td>13</td>\n",
       "      <td>22</td>\n",
       "      <td>416</td>\n",
       "      <td>280</td>\n",
       "      <td>136</td>\n",
       "      <td>1</td>\n",
       "      <td>17</td>\n",
       "      <td>248</td>\n",
       "      <td>162</td>\n",
       "      <td>86</td>\n",
       "      <td>3</td>\n",
       "    </tr>\n",
       "    <tr>\n",
       "      <th>1</th>\n",
       "      <td>Arizona Cardinals</td>\n",
       "      <td>2</td>\n",
       "      <td>Sun</td>\n",
       "      <td>September 19</td>\n",
       "      <td>W</td>\n",
       "      <td>Minnesota Vikings</td>\n",
       "      <td>34</td>\n",
       "      <td>33</td>\n",
       "      <td>21</td>\n",
       "      <td>474</td>\n",
       "      <td>371</td>\n",
       "      <td>103</td>\n",
       "      <td>2</td>\n",
       "      <td>22</td>\n",
       "      <td>419</td>\n",
       "      <td>242</td>\n",
       "      <td>177</td>\n",
       "      <td>0</td>\n",
       "    </tr>\n",
       "    <tr>\n",
       "      <th>2</th>\n",
       "      <td>Arizona Cardinals</td>\n",
       "      <td>3</td>\n",
       "      <td>Sun</td>\n",
       "      <td>September 26</td>\n",
       "      <td>W</td>\n",
       "      <td>Jacksonville Jaguars</td>\n",
       "      <td>31</td>\n",
       "      <td>19</td>\n",
       "      <td>23</td>\n",
       "      <td>407</td>\n",
       "      <td>316</td>\n",
       "      <td>91</td>\n",
       "      <td>1</td>\n",
       "      <td>20</td>\n",
       "      <td>361</td>\n",
       "      <td>202</td>\n",
       "      <td>159</td>\n",
       "      <td>4</td>\n",
       "    </tr>\n",
       "    <tr>\n",
       "      <th>3</th>\n",
       "      <td>Arizona Cardinals</td>\n",
       "      <td>4</td>\n",
       "      <td>Sun</td>\n",
       "      <td>October 3</td>\n",
       "      <td>W</td>\n",
       "      <td>Los Angeles Rams</td>\n",
       "      <td>37</td>\n",
       "      <td>20</td>\n",
       "      <td>27</td>\n",
       "      <td>465</td>\n",
       "      <td>249</td>\n",
       "      <td>216</td>\n",
       "      <td>0</td>\n",
       "      <td>24</td>\n",
       "      <td>401</td>\n",
       "      <td>280</td>\n",
       "      <td>121</td>\n",
       "      <td>2</td>\n",
       "    </tr>\n",
       "    <tr>\n",
       "      <th>4</th>\n",
       "      <td>Arizona Cardinals</td>\n",
       "      <td>5</td>\n",
       "      <td>Sun</td>\n",
       "      <td>October 10</td>\n",
       "      <td>W</td>\n",
       "      <td>San Francisco 49ers</td>\n",
       "      <td>17</td>\n",
       "      <td>10</td>\n",
       "      <td>20</td>\n",
       "      <td>304</td>\n",
       "      <td>210</td>\n",
       "      <td>94</td>\n",
       "      <td>1</td>\n",
       "      <td>19</td>\n",
       "      <td>338</td>\n",
       "      <td>186</td>\n",
       "      <td>152</td>\n",
       "      <td>1</td>\n",
       "    </tr>\n",
       "  </tbody>\n",
       "</table>\n",
       "</div>"
      ],
      "text/plain": [
       "           team_name week  day          date result              opponent  \\\n",
       "0  Arizona Cardinals    1  Sun  September 12      W      Tennessee Titans   \n",
       "1  Arizona Cardinals    2  Sun  September 19      W     Minnesota Vikings   \n",
       "2  Arizona Cardinals    3  Sun  September 26      W  Jacksonville Jaguars   \n",
       "3  Arizona Cardinals    4  Sun     October 3      W      Los Angeles Rams   \n",
       "4  Arizona Cardinals    5  Sun    October 10      W   San Francisco 49ers   \n",
       "\n",
       "   tm_score  opp_score  1stD_offense  TotYd_offense  PassY_offense  \\\n",
       "0        38         13            22            416            280   \n",
       "1        34         33            21            474            371   \n",
       "2        31         19            23            407            316   \n",
       "3        37         20            27            465            249   \n",
       "4        17         10            20            304            210   \n",
       "\n",
       "   RushY_offense  TO_offense  1stD_defense  TotYd_defense  PassY_defense  \\\n",
       "0            136           1            17            248            162   \n",
       "1            103           2            22            419            242   \n",
       "2             91           1            20            361            202   \n",
       "3            216           0            24            401            280   \n",
       "4             94           1            19            338            186   \n",
       "\n",
       "   RushY_defense  TO_defense  \n",
       "0             86           3  \n",
       "1            177           0  \n",
       "2            159           4  \n",
       "3            121           2  \n",
       "4            152           1  "
      ]
     },
     "execution_count": 2,
     "metadata": {},
     "output_type": "execute_result"
    }
   ],
   "source": [
    "# load dataset of 2021 NFL Season Stats\n",
    "nfl = pd.read_csv('season_2021.csv')\n",
    "\n",
    "# inspect first few rows and display below\n",
    "nfl.head()"
   ]
  },
  {
   "attachments": {},
   "cell_type": "markdown",
   "id": "9b022de9",
   "metadata": {},
   "source": [
    "### 2. Summarise outcomes and encode the results labels\n",
    "\n",
    "Next I need to change the results table into a datatype I can work with. W, L and T are not particularly useful for me when doing these calculations. "
   ]
  },
  {
   "cell_type": "code",
   "execution_count": 3,
   "id": "cc61ee21",
   "metadata": {},
   "outputs": [
    {
     "data": {
      "text/plain": [
       "W    284\n",
       "L    284\n",
       "T      2\n",
       "Name: result, dtype: int64"
      ]
     },
     "execution_count": 3,
     "metadata": {},
     "output_type": "execute_result"
    }
   ],
   "source": [
    "# Here I check the counts of each value of the `result` variable.\n",
    "nfl.result.value_counts()"
   ]
  },
  {
   "attachments": {},
   "cell_type": "markdown",
   "id": "c2e85067",
   "metadata": {},
   "source": [
    "The `result` variable I have is encoded with letters for a win (`W`), a loss (`L`), or a tie (`T`). In the 2021 NFL season there were 285 games played, but only 284 with a winner. One of the games was a tie (reported as `T` for each of the two teams who played in that game). \n",
    "\n",
    "The `result` variable is an issue for me because:\n",
    "* The `T` group is very small, which can lead to issues with the model's performance.\n",
    "* The regression algorithm requires numeric values as the outcome, but I have letters.\n",
    "\n",
    "The solution is to group the tie with the losses(since tying a game in the NFL is effectively a loss anyway) and assign the wins with a value of 1 and ties and losses a value of 0.\n",
    "\n",
    "I use the `.replace()` function to convert the `result` column values to numeric values. Then check the value counts again to make sure I have only two categories that are numbers rather than letters."
   ]
  },
  {
   "cell_type": "code",
   "execution_count": 4,
   "id": "77178bee",
   "metadata": {},
   "outputs": [
    {
     "data": {
      "text/plain": [
       "0    286\n",
       "1    284\n",
       "Name: result, dtype: int64"
      ]
     },
     "execution_count": 4,
     "metadata": {},
     "output_type": "execute_result"
    }
   ],
   "source": [
    "# nested dictionary to encode alphanumeric values to numeric values at every instance of 'W', 'T' and 'L' in the dataset\n",
    "result_encoder = {'result': {'W': 1, 'T': 0, 'L': 0}}\n",
    "\n",
    "# encode result column using encoder\n",
    "nfl.replace(result_encoder, inplace=True)\n",
    "\n",
    "# check result value counts to make sure ties and losses have been grouped and values replaced with 1s and 0s\n",
    "nfl.result.value_counts()"
   ]
  },
  {
   "attachments": {},
   "cell_type": "markdown",
   "id": "2248c64d",
   "metadata": {},
   "source": [
    "### 4. Visualising the stats so far\n",
    "\n",
    "Using `sns.boxplot()` I can create box plots of `stat` by wins and losses. This can help us see which stats seem to be more important in deciding whether a team loses or wins. In the plot below the variable `stat` has been set to `TO_offense`.\n",
    "\n",
    "The plot below shows a strong correlation between winning and keeping your teams turnovers to a minimum, this will be a recurring theme.\n",
    "\n",
    "The most interesting plot to me is that of `PassY_offense`, one would expect that teams who win tend to have more passing yards since they must have gotten down the field more. The plot below tells a different story, the median value for both teams that win and lose is very similar in this stat category. This is unsurprising however when you consider how teams' offensive mentality changes depending on their current situation in the game. As any NFL fan will tell you, teams who are winning at the end of a game tend to rely more heavily on running the ball to eat away at the clock and tend to play 'softer' defence in an attempt to not allow any quick points which can jeopardise the lead. Teams who are losing on the other hand, tend to need to get down the field more quickly to score points and the best way to do this is to throw the ball more against what is likely a 'softer' coverage. This results in the outcome below and suggests that offensive passing yards are perhaps not the most important stat in predicting wins and losses in the NFL."
   ]
  },
  {
   "cell_type": "code",
   "execution_count": 5,
   "id": "fd1c6dc4",
   "metadata": {
    "scrolled": true
   },
   "outputs": [
    {
     "data": {
      "image/png": "[encoded data removed]",
      "text/plain": [
       "<Figure size 640x480 with 1 Axes>"
      ]
     },
     "metadata": {},
     "output_type": "display_data"
    },
    {
     "name": "stdout",
     "output_type": "stream",
     "text": [
      "Index(['1stD_offense', 'TotYd_offense', 'PassY_offense', 'RushY_offense',\n",
      "       'TO_offense', '1stD_defense', 'TotYd_defense', 'PassY_defense',\n",
      "       'RushY_defense', 'TO_defense'],\n",
      "      dtype='object')\n"
     ]
    }
   ],
   "source": [
    "# change stat value to view plot\n",
    "stat = 'PassY_offense'\n",
    "\n",
    "# box plot of stat\n",
    "stat_plot = sns.boxplot(x='result', y=stat, data=nfl) \n",
    "\n",
    "# labels\n",
    "stat_plot.set_xticklabels(['loss/tie','win'])\n",
    "plt.show()\n",
    "\n",
    "# list stat names\n",
    "print(nfl.columns[8:])"
   ]
  },
  {
   "cell_type": "markdown",
   "id": "2b608d90",
   "metadata": {},
   "source": [
    "## Data Preparation"
   ]
  },
  {
   "attachments": {},
   "cell_type": "markdown",
   "id": "f0669cf1",
   "metadata": {},
   "source": [
    "### 5. Standardise features and Save game outcomes\n",
    "\n",
    "To be useful in the regression I must standardise the game stats. This is so that I can compare them to one another as it isn't very helpful to directly compare the number of first downs to offensive passing yards. To solve this problem I standardise the stats so that they all have a mean of 0 and a standard deviation of 1. In Python I do this using the `sklearn` library. First I fit the `features` to the scaling function and then I use `scaler.transform()` to standardise the game stats, saving the final output to `X`.\n",
    "\n",
    "I also save the game outcome variable to `y`."
   ]
  },
  {
   "cell_type": "code",
   "execution_count": 6,
   "id": "686fd4ba",
   "metadata": {},
   "outputs": [],
   "source": [
    "# first I save the stats to the feature variables to be scaled\n",
    "features = nfl.iloc[:,8:]\n",
    "scaler = StandardScaler()\n",
    "\n",
    "# fit the transformer to the features\n",
    "scaler.fit(features)\n",
    "\n",
    "# transform and save as X\n",
    "X = scaler.transform(features)"
   ]
  },
  {
   "cell_type": "code",
   "execution_count": 7,
   "id": "fff4a8f8",
   "metadata": {},
   "outputs": [],
   "source": [
    "# save result variable as y\n",
    "y = nfl['result'] "
   ]
  },
  {
   "attachments": {},
   "cell_type": "markdown",
   "id": "30d66b8f",
   "metadata": {},
   "source": [
    "### 6. Training and Test data\n",
    "\n",
    "As mentioned previously, the model needs some initial data to train itself and create the best fitting line. In this instance it is a good idea to randomly assign it some training data from the available data to avoid any potential bias. The remaining data will be used to check the accuracy of the model. \n",
    "\n",
    "The `train_test_split()` function from the `sklearn` library is useful here and I can use it to split the data randomly. This function splits up our input data into training data and testing data. In this instance I have set `test_size` to 0.5 and `random_state` to 42.\n",
    "\n",
    "`test_size` is set to 0.5 to signify that half of the original data will be used as training data and the other half for testing.\n",
    "`random_state` is set to 0 so that anyone running this notebook will get the same results as I did."
   ]
  },
  {
   "cell_type": "code",
   "execution_count": 8,
   "id": "b0ebdb9f",
   "metadata": {},
   "outputs": [],
   "source": [
    "# create train-test split of the data\n",
    "X_train, X_test, y_train, y_test = train_test_split(X, y, test_size= 0.5, random_state = 42)"
   ]
  },
  {
   "cell_type": "markdown",
   "id": "48c21f67",
   "metadata": {},
   "source": [
    "## Analysis"
   ]
  },
  {
   "attachments": {},
   "cell_type": "markdown",
   "id": "3f4bd4ec",
   "metadata": {},
   "source": [
    "### 7. Running the model\n",
    "\n",
    "Now the model will train itself to recognise patterns in the game stats to predict the probability of winning a game, using `X_train` and `y_train`, our training data.\n"
   ]
  },
  {
   "cell_type": "code",
   "execution_count": 9,
   "id": "81d3521c",
   "metadata": {},
   "outputs": [
    {
     "data": {
      "text/html": [
       "<style>#sk-container-id-1 {color: black;background-color: white;}#sk-container-id-1 pre{padding: 0;}#sk-container-id-1 div.sk-toggleable {background-color: white;}#sk-container-id-1 label.sk-toggleable__label {cursor: pointer;display: block;width: 100%;margin-bottom: 0;padding: 0.3em;box-sizing: border-box;text-align: center;}#sk-container-id-1 label.sk-toggleable__label-arrow:before {content: \"▸\";float: left;margin-right: 0.25em;color: #696969;}#sk-container-id-1 label.sk-toggleable__label-arrow:hover:before {color: black;}#sk-container-id-1 div.sk-estimator:hover label.sk-toggleable__label-arrow:before {color: black;}#sk-container-id-1 div.sk-toggleable__content {max-height: 0;max-width: 0;overflow: hidden;text-align: left;background-color: #f0f8ff;}#sk-container-id-1 div.sk-toggleable__content pre {margin: 0.2em;color: black;border-radius: 0.25em;background-color: #f0f8ff;}#sk-container-id-1 input.sk-toggleable__control:checked~div.sk-toggleable__content {max-height: 200px;max-width: 100%;overflow: auto;}#sk-container-id-1 input.sk-toggleable__control:checked~label.sk-toggleable__label-arrow:before {content: \"▾\";}#sk-container-id-1 div.sk-estimator input.sk-toggleable__control:checked~label.sk-toggleable__label {background-color: #d4ebff;}#sk-container-id-1 div.sk-label input.sk-toggleable__control:checked~label.sk-toggleable__label {background-color: #d4ebff;}#sk-container-id-1 input.sk-hidden--visually {border: 0;clip: rect(1px 1px 1px 1px);clip: rect(1px, 1px, 1px, 1px);height: 1px;margin: -1px;overflow: hidden;padding: 0;position: absolute;width: 1px;}#sk-container-id-1 div.sk-estimator {font-family: monospace;background-color: #f0f8ff;border: 1px dotted black;border-radius: 0.25em;box-sizing: border-box;margin-bottom: 0.5em;}#sk-container-id-1 div.sk-estimator:hover {background-color: #d4ebff;}#sk-container-id-1 div.sk-parallel-item::after {content: \"\";width: 100%;border-bottom: 1px solid gray;flex-grow: 1;}#sk-container-id-1 div.sk-label:hover label.sk-toggleable__label {background-color: #d4ebff;}#sk-container-id-1 div.sk-serial::before {content: \"\";position: absolute;border-left: 1px solid gray;box-sizing: border-box;top: 0;bottom: 0;left: 50%;z-index: 0;}#sk-container-id-1 div.sk-serial {display: flex;flex-direction: column;align-items: center;background-color: white;padding-right: 0.2em;padding-left: 0.2em;position: relative;}#sk-container-id-1 div.sk-item {position: relative;z-index: 1;}#sk-container-id-1 div.sk-parallel {display: flex;align-items: stretch;justify-content: center;background-color: white;position: relative;}#sk-container-id-1 div.sk-item::before, #sk-container-id-1 div.sk-parallel-item::before {content: \"\";position: absolute;border-left: 1px solid gray;box-sizing: border-box;top: 0;bottom: 0;left: 50%;z-index: -1;}#sk-container-id-1 div.sk-parallel-item {display: flex;flex-direction: column;z-index: 1;position: relative;background-color: white;}#sk-container-id-1 div.sk-parallel-item:first-child::after {align-self: flex-end;width: 50%;}#sk-container-id-1 div.sk-parallel-item:last-child::after {align-self: flex-start;width: 50%;}#sk-container-id-1 div.sk-parallel-item:only-child::after {width: 0;}#sk-container-id-1 div.sk-dashed-wrapped {border: 1px dashed gray;margin: 0 0.4em 0.5em 0.4em;box-sizing: border-box;padding-bottom: 0.4em;background-color: white;}#sk-container-id-1 div.sk-label label {font-family: monospace;font-weight: bold;display: inline-block;line-height: 1.2em;}#sk-container-id-1 div.sk-label-container {text-align: center;}#sk-container-id-1 div.sk-container {/* jupyter's `normalize.less` sets `[hidden] { display: none; }` but bootstrap.min.css set `[hidden] { display: none !important; }` so we also need the `!important` here to be able to override the default hidden behavior on the sphinx rendered scikit-learn.org. See: https://github.com/scikit-learn/scikit-learn/issues/21755 */display: inline-block !important;position: relative;}#sk-container-id-1 div.sk-text-repr-fallback {display: none;}</style><div id=\"sk-container-id-1\" class=\"sk-top-container\"><div class=\"sk-text-repr-fallback\"><pre>LogisticRegression()</pre><b>In a Jupyter environment, please rerun this cell to show the HTML representation or trust the notebook. <br />On GitHub, the HTML representation is unable to render, please try loading this page with nbviewer.org.</b></div><div class=\"sk-container\" hidden><div class=\"sk-item\"><div class=\"sk-estimator sk-toggleable\"><input class=\"sk-toggleable__control sk-hidden--visually\" id=\"sk-estimator-id-1\" type=\"checkbox\" checked><label for=\"sk-estimator-id-1\" class=\"sk-toggleable__label sk-toggleable__label-arrow\">LogisticRegression</label><div class=\"sk-toggleable__content\"><pre>LogisticRegression()</pre></div></div></div></div></div>"
      ],
      "text/plain": [
       "LogisticRegression()"
      ]
     },
     "execution_count": 9,
     "metadata": {},
     "output_type": "execute_result"
    }
   ],
   "source": [
    "# creating the classifier\n",
    "lrc = LogisticRegression()\n",
    "\n",
    "# fit classifier to the training data\n",
    "lrc.fit(X_train, y_train)"
   ]
  },
  {
   "attachments": {},
   "cell_type": "markdown",
   "id": "211af520",
   "metadata": {},
   "source": [
    "### 8. Model accuracy\n",
    "\n",
    "`lrc` is now fitted to the training data provided. I can now make predictions using the remaining test data. This is done by passing `X_test` as a parameter of `lrc.predict()`. The result will be saved in `y_pred`.\n",
    "\n",
    "Now that I have predicted scores, I can check the accuracy of the model by comparing what it thought the outcome of a game should have been against what it actually was. The `accuracy_score()` function is useful here. I pass the actual game outcomes, `y_test`, and predicted game outcomes, `y_pred`, as parameters."
   ]
  },
  {
   "cell_type": "code",
   "execution_count": 10,
   "id": "ab2e1383",
   "metadata": {},
   "outputs": [
    {
     "data": {
      "text/plain": [
       "0.8280701754385965"
      ]
     },
     "execution_count": 10,
     "metadata": {},
     "output_type": "execute_result"
    }
   ],
   "source": [
    "# predict outcomes using the test data\n",
    "y_pred = lrc.predict(X_test)\n",
    "\n",
    "# compare predicted results to actual to get accuracy score\n",
    "accuracy_score(y_test, y_pred)"
   ]
  },
  {
   "attachments": {},
   "cell_type": "markdown",
   "id": "8ce0f99d",
   "metadata": {},
   "source": [
    "As shown by the accuracy score, the model works well to predict outcomes of games. However there are still steps I can take to further improve the accuracy of this model."
   ]
  },
  {
   "attachments": {},
   "cell_type": "markdown",
   "id": "c31f3ac6",
   "metadata": {},
   "source": [
    "### 9. Hyperparameter tuning\n",
    "\n",
    "At this point I have to introduce two 'under the bonnet' components of the regression. The regression I am using implements two hyperparameters which instruct it on how to choose parameters and can be tuned to increase performance, these parameters being: `penalty` and `C`.\n",
    "\n",
    "* The `penalty` parameter imposes a regularisation penalty on the model for having too many variables. This helps to determine which variables should be considered more strongly in the overall prediction.\n",
    "* `C` is the inverse of regularisation strength. It applies a penalty to increasing the magnitude of parameter values in order to reduce overfitting. \n",
    "\n",
    "Below, I have written a for loop to test how different values of each hyperparameter affect the model accuracy.\n"
   ]
  },
  {
   "cell_type": "code",
   "execution_count": 11,
   "id": "721ab861",
   "metadata": {},
   "outputs": [
    {
     "name": "stdout",
     "output_type": "stream",
     "text": [
      "Accuracy: 52.3% | penalty = l1, C = 0.01\n",
      "Accuracy: 84.6% | penalty = l1, C = 0.1\n",
      "Accuracy: 83.2% | penalty = l1, C = 1.0\n",
      "Accuracy: 82.5% | penalty = l1, C = 10.0\n",
      "Accuracy: 82.5% | penalty = l1, C = 1000.0\n",
      "Accuracy: 80.4% | penalty = l2, C = 0.01\n",
      "Accuracy: 83.5% | penalty = l2, C = 0.1\n",
      "Accuracy: 82.8% | penalty = l2, C = 1.0\n",
      "Accuracy: 82.5% | penalty = l2, C = 10.0\n",
      "Accuracy: 82.5% | penalty = l2, C = 1000.0\n"
     ]
    }
   ],
   "source": [
    "# List of penalties\n",
    "penalties = ['l1', 'l2']\n",
    "# List of values for C\n",
    "C = [0.01, 0.1, 1.0, 10.0, 1000.0]\n",
    "\n",
    "for penalty in penalties:\n",
    "    for c in C:\n",
    "\n",
    "        # instantiate the classifier with the provided hyerparameters\n",
    "        lrc_tuned = LogisticRegression(penalty=penalty, C=c, solver='liblinear')\n",
    "\n",
    "        # fit the classifier to the training data\n",
    "        lrc_tuned.fit(X_train, y_train)\n",
    "        \n",
    "        # predict with the classifier using the .predict() function\n",
    "        y_pred = lrc_tuned.predict(X_test)\n",
    "\n",
    "        # view the model accuracy with the accuracy_score() function\n",
    "        accuracy = accuracy_score(y_test, y_pred)\n",
    "        accuracy_rd = round(accuracy*100,1)\n",
    "        \n",
    "        # print results for each combination of penalty and C\n",
    "        print(f'Accuracy: {accuracy_rd}% | penalty = {penalty}, C = {c}')"
   ]
  },
  {
   "attachments": {},
   "cell_type": "markdown",
   "id": "3bb2b478",
   "metadata": {},
   "source": [
    "Generally speaking the accuracy results were very similar. However, I can see that there does appear to be an optimum combination with `penalty = l1` and `C = 0.1`. This brings the model accuracy from 82.8% to 84.6% accuracy."
   ]
  },
  {
   "attachments": {},
   "cell_type": "markdown",
   "id": "a7157c02",
   "metadata": {},
   "source": [
    "### 10. Test size optimisation\n",
    "\n",
    "Hyperparameter tuning yielded some improvement to the model accuracy, but I can do better. Another method of improving the model accuracy is by adjusting the test size. \n",
    "\n",
    "I have written another for loop which cycles through various test sizes and computes the model accuracy using said test size. The output can be found below. "
   ]
  },
  {
   "cell_type": "code",
   "execution_count": 12,
   "id": "59988a50",
   "metadata": {
    "scrolled": false
   },
   "outputs": [
    {
     "name": "stdout",
     "output_type": "stream",
     "text": [
      "Accuracy: 87.7% | test size = 0.2\n",
      "Accuracy: 87.5% | test size = 0.21\n",
      "Accuracy: 87.3% | test size = 0.22\n",
      "Accuracy: 87.9% | test size = 0.23\n",
      "Accuracy: 88.3% | test size = 0.24\n",
      "Accuracy: 88.8% | test size = 0.25\n",
      "Accuracy: 87.9% | test size = 0.26\n",
      "Accuracy: 88.3% | test size = 0.27\n",
      "Accuracy: 88.1% | test size = 0.28\n",
      "Accuracy: 88.6% | test size = 0.29\n",
      "Accuracy: 87.1% | test size = 0.3\n",
      "Accuracy: 87.6% | test size = 0.31\n",
      "Accuracy: 86.9% | test size = 0.32\n",
      "Accuracy: 87.3% | test size = 0.33\n",
      "Accuracy: 86.1% | test size = 0.34\n",
      "Accuracy: 86.0% | test size = 0.35\n"
     ]
    }
   ],
   "source": [
    "# optimal penalty and C\n",
    "penalty = 'l1'\n",
    "C = 0.1\n",
    "\n",
    "# List of test_sizes\n",
    "test_sizes = [val/100 for val in range(20,36)]\n",
    "\n",
    "for test_size in test_sizes:\n",
    "\n",
    "    # train-test split\n",
    "    X_train, X_test, y_train, y_test = train_test_split(X, y, test_size=test_size, random_state=42)\n",
    "\n",
    "    # instantiate the classifier with our optimal hyperparameters\n",
    "    lrc_tts = LogisticRegression(penalty = penalty, C = C, solver='liblinear')\n",
    "\n",
    "    # fit the classifier to the training data\n",
    "    lrc_tts.fit(X_train, y_train)\n",
    "\n",
    "    # predict with the classifier using the .predict() function\n",
    "    y_pred = lrc_tts.predict(X_test)\n",
    "\n",
    "    # view the model accuracy with the accuracy_score() function\n",
    "    accuracy = accuracy_score(y_test, y_pred)\n",
    "    accuracy_rd = round(accuracy*100,1)\n",
    "    \n",
    "    # print accuracy for each combination of penalty and test size\n",
    "    print(f'Accuracy: {accuracy_rd}% | test size = {test_size}')"
   ]
  },
  {
   "attachments": {},
   "cell_type": "markdown",
   "id": "bb1fc6d9",
   "metadata": {},
   "source": [
    "As can be seen by the results above, a test size of `0.25` yields the best results."
   ]
  },
  {
   "attachments": {},
   "cell_type": "markdown",
   "id": "bcb1c87a",
   "metadata": {},
   "source": [
    "### 11. The optimised model\n",
    "\n",
    "Now that I know which parameters optimise the model the final regression can be created and saved."
   ]
  },
  {
   "cell_type": "code",
   "execution_count": 14,
   "id": "8e5de054",
   "metadata": {},
   "outputs": [
    {
     "data": {
      "text/html": [
       "<style>#sk-container-id-2 {color: black;background-color: white;}#sk-container-id-2 pre{padding: 0;}#sk-container-id-2 div.sk-toggleable {background-color: white;}#sk-container-id-2 label.sk-toggleable__label {cursor: pointer;display: block;width: 100%;margin-bottom: 0;padding: 0.3em;box-sizing: border-box;text-align: center;}#sk-container-id-2 label.sk-toggleable__label-arrow:before {content: \"▸\";float: left;margin-right: 0.25em;color: #696969;}#sk-container-id-2 label.sk-toggleable__label-arrow:hover:before {color: black;}#sk-container-id-2 div.sk-estimator:hover label.sk-toggleable__label-arrow:before {color: black;}#sk-container-id-2 div.sk-toggleable__content {max-height: 0;max-width: 0;overflow: hidden;text-align: left;background-color: #f0f8ff;}#sk-container-id-2 div.sk-toggleable__content pre {margin: 0.2em;color: black;border-radius: 0.25em;background-color: #f0f8ff;}#sk-container-id-2 input.sk-toggleable__control:checked~div.sk-toggleable__content {max-height: 200px;max-width: 100%;overflow: auto;}#sk-container-id-2 input.sk-toggleable__control:checked~label.sk-toggleable__label-arrow:before {content: \"▾\";}#sk-container-id-2 div.sk-estimator input.sk-toggleable__control:checked~label.sk-toggleable__label {background-color: #d4ebff;}#sk-container-id-2 div.sk-label input.sk-toggleable__control:checked~label.sk-toggleable__label {background-color: #d4ebff;}#sk-container-id-2 input.sk-hidden--visually {border: 0;clip: rect(1px 1px 1px 1px);clip: rect(1px, 1px, 1px, 1px);height: 1px;margin: -1px;overflow: hidden;padding: 0;position: absolute;width: 1px;}#sk-container-id-2 div.sk-estimator {font-family: monospace;background-color: #f0f8ff;border: 1px dotted black;border-radius: 0.25em;box-sizing: border-box;margin-bottom: 0.5em;}#sk-container-id-2 div.sk-estimator:hover {background-color: #d4ebff;}#sk-container-id-2 div.sk-parallel-item::after {content: \"\";width: 100%;border-bottom: 1px solid gray;flex-grow: 1;}#sk-container-id-2 div.sk-label:hover label.sk-toggleable__label {background-color: #d4ebff;}#sk-container-id-2 div.sk-serial::before {content: \"\";position: absolute;border-left: 1px solid gray;box-sizing: border-box;top: 0;bottom: 0;left: 50%;z-index: 0;}#sk-container-id-2 div.sk-serial {display: flex;flex-direction: column;align-items: center;background-color: white;padding-right: 0.2em;padding-left: 0.2em;position: relative;}#sk-container-id-2 div.sk-item {position: relative;z-index: 1;}#sk-container-id-2 div.sk-parallel {display: flex;align-items: stretch;justify-content: center;background-color: white;position: relative;}#sk-container-id-2 div.sk-item::before, #sk-container-id-2 div.sk-parallel-item::before {content: \"\";position: absolute;border-left: 1px solid gray;box-sizing: border-box;top: 0;bottom: 0;left: 50%;z-index: -1;}#sk-container-id-2 div.sk-parallel-item {display: flex;flex-direction: column;z-index: 1;position: relative;background-color: white;}#sk-container-id-2 div.sk-parallel-item:first-child::after {align-self: flex-end;width: 50%;}#sk-container-id-2 div.sk-parallel-item:last-child::after {align-self: flex-start;width: 50%;}#sk-container-id-2 div.sk-parallel-item:only-child::after {width: 0;}#sk-container-id-2 div.sk-dashed-wrapped {border: 1px dashed gray;margin: 0 0.4em 0.5em 0.4em;box-sizing: border-box;padding-bottom: 0.4em;background-color: white;}#sk-container-id-2 div.sk-label label {font-family: monospace;font-weight: bold;display: inline-block;line-height: 1.2em;}#sk-container-id-2 div.sk-label-container {text-align: center;}#sk-container-id-2 div.sk-container {/* jupyter's `normalize.less` sets `[hidden] { display: none; }` but bootstrap.min.css set `[hidden] { display: none !important; }` so we also need the `!important` here to be able to override the default hidden behavior on the sphinx rendered scikit-learn.org. See: https://github.com/scikit-learn/scikit-learn/issues/21755 */display: inline-block !important;position: relative;}#sk-container-id-2 div.sk-text-repr-fallback {display: none;}</style><div id=\"sk-container-id-2\" class=\"sk-top-container\"><div class=\"sk-text-repr-fallback\"><pre>LogisticRegression(C=0.1, penalty=&#x27;l1&#x27;, solver=&#x27;liblinear&#x27;)</pre><b>In a Jupyter environment, please rerun this cell to show the HTML representation or trust the notebook. <br />On GitHub, the HTML representation is unable to render, please try loading this page with nbviewer.org.</b></div><div class=\"sk-container\" hidden><div class=\"sk-item\"><div class=\"sk-estimator sk-toggleable\"><input class=\"sk-toggleable__control sk-hidden--visually\" id=\"sk-estimator-id-2\" type=\"checkbox\" checked><label for=\"sk-estimator-id-2\" class=\"sk-toggleable__label sk-toggleable__label-arrow\">LogisticRegression</label><div class=\"sk-toggleable__content\"><pre>LogisticRegression(C=0.1, penalty=&#x27;l1&#x27;, solver=&#x27;liblinear&#x27;)</pre></div></div></div></div></div>"
      ],
      "text/plain": [
       "LogisticRegression(C=0.1, penalty='l1', solver='liblinear')"
      ]
     },
     "execution_count": 14,
     "metadata": {},
     "output_type": "execute_result"
    }
   ],
   "source": [
    "# optimised model parameters\n",
    "test_size = 0.25\n",
    "penalty = 'l1'\n",
    "C = 0.1\n",
    "\n",
    "# train-test split\n",
    "X_train, X_test, y_train, y_test = train_test_split(X, y, test_size=test_size, random_state=42)\n",
    "\n",
    "# instantiate the classifier\n",
    "optLr = LogisticRegression(penalty = penalty, C = C, solver='liblinear')\n",
    "\n",
    "# fit the classifier to the training data\n",
    "optLr.fit(X_train, y_train)"
   ]
  },
  {
   "attachments": {},
   "cell_type": "markdown",
   "id": "92a84c85",
   "metadata": {},
   "source": [
    "### 12. Feature importance\n",
    "\n",
    "As I mentioned previously, the model works to identify which stats are more important in determining wins. I can now look at how important the model thinks each individual stat is by creating a bar plot of the importance coefficients."
   ]
  },
  {
   "cell_type": "code",
   "execution_count": 15,
   "id": "c62690ad",
   "metadata": {},
   "outputs": [
    {
     "data": {
      "image/png": "[encoded data removed]",
      "text/plain": [
       "<Figure size 640x480 with 1 Axes>"
      ]
     },
     "metadata": {},
     "output_type": "display_data"
    },
    {
     "name": "stdout",
     "output_type": "stream",
     "text": [
      "Feature: 1stD_offense, Score: 0.08\n",
      "Feature: TotYd_offense, Score: 0.56\n",
      "Feature: PassY_offense, Score: 0.0\n",
      "Feature: RushY_offense, Score: 0.13\n",
      "Feature: TO_offense, Score: 0.75\n",
      "Feature: 1stD_defense, Score: 0.19\n",
      "Feature: TotYd_defense, Score: 0.6\n",
      "Feature: PassY_defense, Score: 0.0\n",
      "Feature: RushY_defense, Score: 0.21\n",
      "Feature: TO_defense, Score: 0.75\n"
     ]
    }
   ],
   "source": [
    "# get importance\n",
    "importance = abs(optLr.coef_[0])\n",
    "\n",
    "# visualize feature importance\n",
    "sns.barplot(x=importance, y=features.columns)\n",
    "\n",
    "# add labels and titles\n",
    "plt.suptitle('Feature Importance for Logistic Regression')\n",
    "plt.xlabel('Score')\n",
    "plt.ylabel('Stat')\n",
    "plt.show()\n",
    "\n",
    "\n",
    "# summarize feature importance\n",
    "for i,v in enumerate(importance.round(2)):\n",
    "    print(f'Feature: {features.columns[i]}, Score: {v}')"
   ]
  },
  {
   "attachments": {},
   "cell_type": "markdown",
   "id": "4391d736",
   "metadata": {},
   "source": [
    "It should come as no surprise to any NFL fans that the model thinks that turnovers, both `TO_offense` and `TO_defense`, are the most important stat in determining who wins a game. I say no surprise because turnovers are a huge turning point in a game and usually result in a team getting incredibly good field position which they can more easily turn into points. As my favourite sports debate show host, Shannon Sharpe, always says \"Turnovers will get you beat\", and boy do the stats show it. \n",
    "\n",
    "The results also show that as suspected the offensive passing yards seem to not be a very good indicator of a win or a loss, for reasons outlined in section 4."
   ]
  },
  {
   "attachments": {},
   "cell_type": "markdown",
   "id": "79280316",
   "metadata": {},
   "source": [
    "## Conclusion"
   ]
  },
  {
   "attachments": {},
   "cell_type": "markdown",
   "id": "82a57d6c",
   "metadata": {},
   "source": [
    "At this point I think I have to come clean, while the model above is quite accurate it isn't very helpful for me achieving my million dollar dreams. As I'm sure some of the keen eyed readers have already worked out, this model won't help you in predicting the future or assembling the perfect 'acca' (parlay for any American readers). This is due to the fact that the model predicts wins based off of stats from a game that have already happened, and are therefore not going to help make predictions before a game is played. One could build a model that does take into account statistics that are available before a game and you could go as deep down that rabbit hole as it goes, but for the purposes of my journey in programming and statistics I think this will do just fine!\n",
    "\n",
    "Another confession I must make is that while this model won't make you a millionaire, it will help you identify some teams that are probably a little embarrassed with themselves over some of their game outcomes. So let's have a little look into that!"
   ]
  },
  {
   "attachments": {},
   "cell_type": "markdown",
   "id": "a6c1c192",
   "metadata": {},
   "source": [
    "### 13. Using the model on the current NFL season stats\n",
    "\n",
    "Below I have written a piece of code that uses the trained model above to predict wins in the current NFL season. So why don't we use this to find some teams that probably should've come away with a few more wins than they did. \n",
    "\n",
    "Any team can be evaluated here by changing the `team` variable to any team in the NFL. I've written a separate helper script which will allow you to import and use `get_new_data()`, this will pull new data for a given year from the Pro Football website [Pro Football Reference](https://www.pro-football-reference.com/)."
   ]
  },
  {
   "cell_type": "code",
   "execution_count": 54,
   "id": "24269af0",
   "metadata": {
    "scrolled": true
   },
   "outputs": [
    {
     "data": {
      "text/html": [
       "<div>\n",
       "<style scoped>\n",
       "    .dataframe tbody tr th:only-of-type {\n",
       "        vertical-align: middle;\n",
       "    }\n",
       "\n",
       "    .dataframe tbody tr th {\n",
       "        vertical-align: top;\n",
       "    }\n",
       "\n",
       "    .dataframe thead th {\n",
       "        text-align: right;\n",
       "    }\n",
       "</style>\n",
       "<table border=\"1\" class=\"dataframe\">\n",
       "  <thead>\n",
       "    <tr style=\"text-align: right;\">\n",
       "      <th></th>\n",
       "      <th>team_name</th>\n",
       "      <th>week</th>\n",
       "      <th>day</th>\n",
       "      <th>date</th>\n",
       "      <th>result</th>\n",
       "      <th>opponent</th>\n",
       "      <th>tm_score</th>\n",
       "      <th>opp_score</th>\n",
       "      <th>1stD_offense</th>\n",
       "      <th>TotYd_offense</th>\n",
       "      <th>PassY_offense</th>\n",
       "      <th>RushY_offense</th>\n",
       "      <th>TO_offense</th>\n",
       "      <th>1stD_defense</th>\n",
       "      <th>TotYd_defense</th>\n",
       "      <th>PassY_defense</th>\n",
       "      <th>RushY_defense</th>\n",
       "      <th>TO_defense</th>\n",
       "    </tr>\n",
       "  </thead>\n",
       "  <tbody>\n",
       "    <tr>\n",
       "      <th>0</th>\n",
       "      <td>Buffalo Bills</td>\n",
       "      <td>1</td>\n",
       "      <td>Thu</td>\n",
       "      <td>September 8</td>\n",
       "      <td>1</td>\n",
       "      <td>Los Angeles Rams</td>\n",
       "      <td>31</td>\n",
       "      <td>10</td>\n",
       "      <td>23</td>\n",
       "      <td>413</td>\n",
       "      <td>292</td>\n",
       "      <td>121</td>\n",
       "      <td>4</td>\n",
       "      <td>19</td>\n",
       "      <td>243</td>\n",
       "      <td>191</td>\n",
       "      <td>52</td>\n",
       "      <td>3</td>\n",
       "    </tr>\n",
       "    <tr>\n",
       "      <th>1</th>\n",
       "      <td>Buffalo Bills</td>\n",
       "      <td>2</td>\n",
       "      <td>Mon</td>\n",
       "      <td>September 19</td>\n",
       "      <td>1</td>\n",
       "      <td>Tennessee Titans</td>\n",
       "      <td>41</td>\n",
       "      <td>7</td>\n",
       "      <td>23</td>\n",
       "      <td>414</td>\n",
       "      <td>313</td>\n",
       "      <td>101</td>\n",
       "      <td>0</td>\n",
       "      <td>12</td>\n",
       "      <td>187</td>\n",
       "      <td>107</td>\n",
       "      <td>80</td>\n",
       "      <td>4</td>\n",
       "    </tr>\n",
       "    <tr>\n",
       "      <th>2</th>\n",
       "      <td>Buffalo Bills</td>\n",
       "      <td>3</td>\n",
       "      <td>Sun</td>\n",
       "      <td>September 25</td>\n",
       "      <td>0</td>\n",
       "      <td>Miami Dolphins</td>\n",
       "      <td>19</td>\n",
       "      <td>21</td>\n",
       "      <td>31</td>\n",
       "      <td>497</td>\n",
       "      <td>382</td>\n",
       "      <td>115</td>\n",
       "      <td>1</td>\n",
       "      <td>15</td>\n",
       "      <td>212</td>\n",
       "      <td>171</td>\n",
       "      <td>41</td>\n",
       "      <td>0</td>\n",
       "    </tr>\n",
       "    <tr>\n",
       "      <th>3</th>\n",
       "      <td>Buffalo Bills</td>\n",
       "      <td>4</td>\n",
       "      <td>Sun</td>\n",
       "      <td>October 2</td>\n",
       "      <td>1</td>\n",
       "      <td>Baltimore Ravens</td>\n",
       "      <td>23</td>\n",
       "      <td>20</td>\n",
       "      <td>22</td>\n",
       "      <td>326</td>\n",
       "      <td>201</td>\n",
       "      <td>125</td>\n",
       "      <td>2</td>\n",
       "      <td>22</td>\n",
       "      <td>296</td>\n",
       "      <td>134</td>\n",
       "      <td>162</td>\n",
       "      <td>2</td>\n",
       "    </tr>\n",
       "    <tr>\n",
       "      <th>4</th>\n",
       "      <td>Buffalo Bills</td>\n",
       "      <td>5</td>\n",
       "      <td>Sun</td>\n",
       "      <td>October 9</td>\n",
       "      <td>1</td>\n",
       "      <td>Pittsburgh Steelers</td>\n",
       "      <td>38</td>\n",
       "      <td>3</td>\n",
       "      <td>21</td>\n",
       "      <td>552</td>\n",
       "      <td>432</td>\n",
       "      <td>120</td>\n",
       "      <td>2</td>\n",
       "      <td>23</td>\n",
       "      <td>364</td>\n",
       "      <td>310</td>\n",
       "      <td>54</td>\n",
       "      <td>2</td>\n",
       "    </tr>\n",
       "  </tbody>\n",
       "</table>\n",
       "</div>"
      ],
      "text/plain": [
       "       team_name  week  day          date result             opponent  \\\n",
       "0  Buffalo Bills     1  Thu   September 8      1     Los Angeles Rams   \n",
       "1  Buffalo Bills     2  Mon  September 19      1     Tennessee Titans   \n",
       "2  Buffalo Bills     3  Sun  September 25      0       Miami Dolphins   \n",
       "3  Buffalo Bills     4  Sun     October 2      1     Baltimore Ravens   \n",
       "4  Buffalo Bills     5  Sun     October 9      1  Pittsburgh Steelers   \n",
       "\n",
       "  tm_score opp_score 1stD_offense TotYd_offense PassY_offense RushY_offense  \\\n",
       "0       31        10           23           413           292           121   \n",
       "1       41         7           23           414           313           101   \n",
       "2       19        21           31           497           382           115   \n",
       "3       23        20           22           326           201           125   \n",
       "4       38         3           21           552           432           120   \n",
       "\n",
       "  TO_offense 1stD_defense TotYd_defense PassY_defense RushY_defense TO_defense  \n",
       "0          4           19           243           191            52          3  \n",
       "1          0           12           187           107            80          4  \n",
       "2          1           15           212           171            41          0  \n",
       "3          2           22           296           134           162          2  \n",
       "4          2           23           364           310            54          2  "
      ]
     },
     "execution_count": 54,
     "metadata": {},
     "output_type": "execute_result"
    }
   ],
   "source": [
    "# set team and year\n",
    "team = 'Buffalo Bills'\n",
    "year = 2022\n",
    "\n",
    "# Function to pull new data\n",
    "from helper import get_new_data\n",
    "new_data = get_new_data(team=team, year=year)\n",
    "\n",
    "# view head of new data\n",
    "new_data.head()"
   ]
  },
  {
   "attachments": {},
   "cell_type": "markdown",
   "id": "e94f0188",
   "metadata": {},
   "source": [
    "Just as before the data must be standardised before it can be used."
   ]
  },
  {
   "cell_type": "code",
   "execution_count": 55,
   "id": "f5f56c37",
   "metadata": {},
   "outputs": [],
   "source": [
    "# select just the game stats\n",
    "new_X = new_data.loc[:,features.columns]\n",
    "\n",
    "# standardise using original data's scaling\n",
    "new_X_sc = scaler.transform(new_X)"
   ]
  },
  {
   "attachments": {},
   "cell_type": "markdown",
   "id": "cc980b71",
   "metadata": {},
   "source": [
    "The data is ready. Predictions can now be made and an accuracy score calculated."
   ]
  },
  {
   "cell_type": "code",
   "execution_count": 56,
   "id": "0d3fe65e",
   "metadata": {},
   "outputs": [],
   "source": [
    "# get new predictions\n",
    "new_preds = optLr.predict(new_X_sc)\n",
    "\n",
    "# get actual results and set type to float\n",
    "new_results = new_data['result'].astype(float)\n",
    "\n",
    "# get accuracy score for new data\n",
    "acc_score = accuracy_score(new_results, new_preds)"
   ]
  },
  {
   "attachments": {},
   "cell_type": "markdown",
   "id": "30eb9eaf",
   "metadata": {},
   "source": [
    "Let's put all this information together in a table and print out the accuracy score."
   ]
  },
  {
   "cell_type": "code",
   "execution_count": 57,
   "id": "8f51e427",
   "metadata": {},
   "outputs": [],
   "source": [
    "# select game data\n",
    "col_names = ['day', 'date', 'result', 'opponent', 'tm_score', 'opp_score']\n",
    "game_data = new_data.loc[:,col_names]\n",
    "# create table\n",
    "comp_table = game_data.assign(predicted = new_preds,\n",
    "                              actual = new_results.astype(int))"
   ]
  },
  {
   "cell_type": "code",
   "execution_count": 58,
   "id": "571f96f9",
   "metadata": {},
   "outputs": [
    {
     "name": "stdout",
     "output_type": "stream",
     "text": [
      "Predicted Wins vs Actual Wins for Buffalo Bills in 2022\n"
     ]
    },
    {
     "data": {
      "text/html": [
       "<div>\n",
       "<style scoped>\n",
       "    .dataframe tbody tr th:only-of-type {\n",
       "        vertical-align: middle;\n",
       "    }\n",
       "\n",
       "    .dataframe tbody tr th {\n",
       "        vertical-align: top;\n",
       "    }\n",
       "\n",
       "    .dataframe thead th {\n",
       "        text-align: right;\n",
       "    }\n",
       "</style>\n",
       "<table border=\"1\" class=\"dataframe\">\n",
       "  <thead>\n",
       "    <tr style=\"text-align: right;\">\n",
       "      <th></th>\n",
       "      <th>day</th>\n",
       "      <th>date</th>\n",
       "      <th>result</th>\n",
       "      <th>opponent</th>\n",
       "      <th>tm_score</th>\n",
       "      <th>opp_score</th>\n",
       "      <th>predicted</th>\n",
       "      <th>actual</th>\n",
       "    </tr>\n",
       "  </thead>\n",
       "  <tbody>\n",
       "    <tr>\n",
       "      <th>0</th>\n",
       "      <td>Thu</td>\n",
       "      <td>September 8</td>\n",
       "      <td>1</td>\n",
       "      <td>Los Angeles Rams</td>\n",
       "      <td>31</td>\n",
       "      <td>10</td>\n",
       "      <td>1</td>\n",
       "      <td>1</td>\n",
       "    </tr>\n",
       "    <tr>\n",
       "      <th>1</th>\n",
       "      <td>Mon</td>\n",
       "      <td>September 19</td>\n",
       "      <td>1</td>\n",
       "      <td>Tennessee Titans</td>\n",
       "      <td>41</td>\n",
       "      <td>7</td>\n",
       "      <td>1</td>\n",
       "      <td>1</td>\n",
       "    </tr>\n",
       "    <tr>\n",
       "      <th>2</th>\n",
       "      <td>Sun</td>\n",
       "      <td>September 25</td>\n",
       "      <td>0</td>\n",
       "      <td>Miami Dolphins</td>\n",
       "      <td>19</td>\n",
       "      <td>21</td>\n",
       "      <td>1</td>\n",
       "      <td>0</td>\n",
       "    </tr>\n",
       "    <tr>\n",
       "      <th>3</th>\n",
       "      <td>Sun</td>\n",
       "      <td>October 2</td>\n",
       "      <td>1</td>\n",
       "      <td>Baltimore Ravens</td>\n",
       "      <td>23</td>\n",
       "      <td>20</td>\n",
       "      <td>1</td>\n",
       "      <td>1</td>\n",
       "    </tr>\n",
       "    <tr>\n",
       "      <th>4</th>\n",
       "      <td>Sun</td>\n",
       "      <td>October 9</td>\n",
       "      <td>1</td>\n",
       "      <td>Pittsburgh Steelers</td>\n",
       "      <td>38</td>\n",
       "      <td>3</td>\n",
       "      <td>1</td>\n",
       "      <td>1</td>\n",
       "    </tr>\n",
       "    <tr>\n",
       "      <th>5</th>\n",
       "      <td>Sun</td>\n",
       "      <td>October 16</td>\n",
       "      <td>1</td>\n",
       "      <td>Kansas City Chiefs</td>\n",
       "      <td>24</td>\n",
       "      <td>20</td>\n",
       "      <td>1</td>\n",
       "      <td>1</td>\n",
       "    </tr>\n",
       "    <tr>\n",
       "      <th>6</th>\n",
       "      <td>Sun</td>\n",
       "      <td>October 30</td>\n",
       "      <td>1</td>\n",
       "      <td>Green Bay Packers</td>\n",
       "      <td>27</td>\n",
       "      <td>17</td>\n",
       "      <td>0</td>\n",
       "      <td>1</td>\n",
       "    </tr>\n",
       "    <tr>\n",
       "      <th>7</th>\n",
       "      <td>Sun</td>\n",
       "      <td>November 6</td>\n",
       "      <td>0</td>\n",
       "      <td>New York Jets</td>\n",
       "      <td>17</td>\n",
       "      <td>20</td>\n",
       "      <td>0</td>\n",
       "      <td>0</td>\n",
       "    </tr>\n",
       "  </tbody>\n",
       "</table>\n",
       "</div>"
      ],
      "text/plain": [
       "   day          date result             opponent tm_score opp_score  \\\n",
       "0  Thu   September 8      1     Los Angeles Rams       31        10   \n",
       "1  Mon  September 19      1     Tennessee Titans       41         7   \n",
       "2  Sun  September 25      0       Miami Dolphins       19        21   \n",
       "3  Sun     October 2      1     Baltimore Ravens       23        20   \n",
       "4  Sun     October 9      1  Pittsburgh Steelers       38         3   \n",
       "5  Sun    October 16      1   Kansas City Chiefs       24        20   \n",
       "6  Sun    October 30      1    Green Bay Packers       27        17   \n",
       "7  Sun    November 6      0        New York Jets       17        20   \n",
       "\n",
       "   predicted  actual  \n",
       "0          1       1  \n",
       "1          1       1  \n",
       "2          1       0  \n",
       "3          1       1  \n",
       "4          1       1  \n",
       "5          1       1  \n",
       "6          0       1  \n",
       "7          0       0  "
      ]
     },
     "execution_count": 58,
     "metadata": {},
     "output_type": "execute_result"
    }
   ],
   "source": [
    "# print title and table\n",
    "print(f'Predicted Wins vs Actual for {team} in {year}')\n",
    "comp_table"
   ]
  },
  {
   "cell_type": "code",
   "execution_count": 59,
   "id": "057cec1b",
   "metadata": {},
   "outputs": [
    {
     "name": "stdout",
     "output_type": "stream",
     "text": [
      "\n",
      "Current Accuracy Score: 75.0%\n"
     ]
    }
   ],
   "source": [
    "# print accuracy\n",
    "print(f'\\nCurrent Accuracy Score: ' + str(round(acc_score*100,1)) + '%')"
   ]
  },
  {
   "attachments": {},
   "cell_type": "markdown",
   "id": "911a0a60",
   "metadata": {},
   "source": [
    "In the example above I have selected the Buffalo Bills, we can see that generally the Bills achieved the outcome predicted by the model. However, I'd like to draw everyone's attention to October 30th when the Buffalo Bills played my beloved Green Bay Packers. The model predicted a loss for the Buffalo Bills but they managed to get a win. The reason I point to this game in particular is even though I haven't looked directly at the statistics of the game myself, I did happen to watch it live. The real story of that game was the Green Bay Packers had lost faith in their young group of receivers and leading up to the game decided to place the trust not in the hands of the back-to-back NFL MVP, Aaron Rodgers, but instead in the hands of their running backs. This plan ultimately failed as the Packers kept having to punt to the Bills after lengthy possessions and ultimately lost. On the stat sheet however, the Packers possessed the ball for far longer than the Bills, and most importantly due to their no risk approach had a much better turnover difference than the Bills. As seen previously this model puts incredible emphasis on turnovers, and rightfully so. However, on this occasion the model really could've used with a simple pair of eyes. "
   ]
  }
 ],
 "metadata": {
  "kernelspec": {
   "display_name": "Python 3",
   "language": "python",
   "name": "python3"
  },
  "language_info": {
   "codemirror_mode": {
    "name": "ipython",
    "version": 3
   },
   "file_extension": ".py",
   "mimetype": "text/x-python",
   "name": "python",
   "nbconvert_exporter": "python",
   "pygments_lexer": "ipython3",
   "version": "3.9.6 (default, Sep 26 2022, 11:37:49) \n[Clang 14.0.0 (clang-1400.0.29.202)]"
  },
  "vscode": {
   "interpreter": {
    "hash": "31f2aee4e71d21fbe5cf8b01ff0e069b9275f58929596ceb00d14d90e3e16cd6"
   }
  }
 },
 "nbformat": 4,
 "nbformat_minor": 5
}
